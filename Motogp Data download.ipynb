{
 "cells": [
  {
   "cell_type": "markdown",
   "metadata": {},
   "source": [
    "# MotoGP WebScraping"
   ]
  },
  {
   "cell_type": "markdown",
   "metadata": {},
   "source": [
    "## Importing Libraries"
   ]
  },
  {
   "cell_type": "code",
   "execution_count": null,
   "metadata": {},
   "outputs": [],
   "source": [
    "import requests\n",
    "import urllib.request\n",
    "import time\n",
    "from bs4 import BeautifulSoup"
   ]
  },
  {
   "cell_type": "code",
   "execution_count": 2,
   "metadata": {},
   "outputs": [],
   "source": [
    "import pandas as pd"
   ]
  },
  {
   "cell_type": "code",
   "execution_count": null,
   "metadata": {},
   "outputs": [],
   "source": [
    "#pip install selenium"
   ]
  },
  {
   "cell_type": "code",
   "execution_count": 3,
   "metadata": {},
   "outputs": [],
   "source": [
    "from selenium import webdriver\n",
    "from selenium.webdriver.support.ui import Select\n",
    "from selenium.webdriver.common.by import By\n",
    "import csv"
   ]
  },
  {
   "cell_type": "code",
   "execution_count": 4,
   "metadata": {},
   "outputs": [],
   "source": [
    "import time\n",
    "from selenium import webdriver\n",
    "from selenium.webdriver.support.ui import Select\n"
   ]
  },
  {
   "cell_type": "markdown",
   "metadata": {},
   "source": [
    "## Opening Chrome Via Code"
   ]
  },
  {
   "cell_type": "code",
   "execution_count": 91,
   "metadata": {},
   "outputs": [
    {
     "name": "stdout",
     "output_type": "stream",
     "text": [
      "opening chrome....\n"
     ]
    }
   ],
   "source": [
    "#Open MotogpData page\n",
    "\n",
    "print (\"opening chrome....\")\n",
    "driver = webdriver.Chrome(executable_path='D:/KTM project/Motogp/chromedriver_win32/chromedriver.exe')\n",
    "driver.get('https://www.motogp.com/en/Results+Statistics/Statistics/statsearch/')\n",
    "time.sleep(10)"
   ]
  },
  {
   "cell_type": "markdown",
   "metadata": {},
   "source": [
    "## Open Motogp Data website and selecting Year as 2019"
   ]
  },
  {
   "cell_type": "code",
   "execution_count": 92,
   "metadata": {},
   "outputs": [],
   "source": [
    "driver = webdriver.Chrome(executable_path='D:/KTM project/Motogp/chromedriver_win32/chromedriver.exe')\n",
    "driver.get('https://www.motogp.com/en/Results+Statistics/Statistics/statsearch.html')\n",
    "time.sleep(4)\n",
    "\n",
    "selectYear = Select(driver.find_element_by_id(\"years\"))\n",
    "selectYear.select_by_value('2019')\n",
    "\n",
    "time.sleep(2)\n"
   ]
  },
  {
   "cell_type": "markdown",
   "metadata": {},
   "source": [
    "## Let us try getting the values of all years present in the database"
   ]
  },
  {
   "cell_type": "code",
   "execution_count": 93,
   "metadata": {
    "scrolled": true
   },
   "outputs": [
    {
     "name": "stdout",
     "output_type": "stream",
     "text": [
      "All seasons\n",
      "2020\n",
      "2019\n",
      "2018\n",
      "2017\n",
      "2016\n",
      "2015\n",
      "2014\n",
      "2013\n",
      "2012\n",
      "2011\n",
      "2010\n",
      "2009\n",
      "2008\n",
      "2007\n",
      "2006\n",
      "2005\n",
      "2004\n",
      "2003\n",
      "2002\n",
      "2001\n",
      "2000\n",
      "1999\n",
      "1998\n",
      "1997\n",
      "1996\n",
      "1995\n",
      "1994\n",
      "1993\n",
      "1992\n",
      "1991\n",
      "1990\n",
      "1989\n",
      "1988\n",
      "1987\n",
      "1986\n",
      "1985\n",
      "1984\n",
      "1983\n",
      "1982\n",
      "1981\n",
      "1980\n",
      "1979\n",
      "1978\n",
      "1977\n",
      "1976\n",
      "1975\n",
      "1974\n",
      "1973\n",
      "1972\n",
      "1971\n",
      "1970\n",
      "1969\n",
      "1968\n",
      "1967\n",
      "1966\n",
      "1965\n",
      "1964\n",
      "1963\n",
      "1962\n",
      "1961\n",
      "1960\n",
      "1959\n",
      "1958\n",
      "1957\n",
      "1956\n",
      "1955\n",
      "1954\n",
      "1953\n",
      "1952\n",
      "1951\n",
      "1950\n",
      "1949\n",
      "73\n"
     ]
    }
   ],
   "source": [
    "#get all values for the drop down list \"Year\"\n",
    "for option in selectYear.options:\n",
    "    print(option.text)\n",
    " \n",
    "print(len(selectYear.options))"
   ]
  },
  {
   "cell_type": "markdown",
   "metadata": {},
   "source": [
    "### Total 73 years worth of data present"
   ]
  },
  {
   "cell_type": "markdown",
   "metadata": {},
   "source": [
    "## Simulating a mouse click on \"Rider GP Winners\" for 2019 for all Class, Country and Track"
   ]
  },
  {
   "cell_type": "code",
   "execution_count": 94,
   "metadata": {},
   "outputs": [],
   "source": [
    "login=driver.find_element_by_id(\"riders_gp_winners_submit\")\n",
    "login.click()"
   ]
  },
  {
   "cell_type": "markdown",
   "metadata": {},
   "source": [
    "## Count number of rows and columns of result"
   ]
  },
  {
   "cell_type": "code",
   "execution_count": 95,
   "metadata": {},
   "outputs": [
    {
     "data": {
      "text/plain": [
       "63"
      ]
     },
     "execution_count": 95,
     "metadata": {},
     "output_type": "execute_result"
    }
   ],
   "source": [
    "row_count=len(driver.find_elements_by_xpath('//*[@id=\"results_returned_container\"]/table/tbody/tr'))\n",
    "row_count-1"
   ]
  },
  {
   "cell_type": "code",
   "execution_count": 96,
   "metadata": {},
   "outputs": [
    {
     "data": {
      "text/plain": [
       "6"
      ]
     },
     "execution_count": 96,
     "metadata": {},
     "output_type": "execute_result"
    }
   ],
   "source": [
    "col_count=len(driver.find_elements_by_xpath('//*[@id=\"results_returned_container\"]/table/tbody/tr[1]/th'))\n",
    "col_count"
   ]
  },
  {
   "cell_type": "markdown",
   "metadata": {},
   "source": [
    "## Based on the webpage design identify and set varaibles which point to the elements in the table"
   ]
  },
  {
   "cell_type": "code",
   "execution_count": 97,
   "metadata": {},
   "outputs": [
    {
     "data": {
      "text/plain": [
       "'2019'"
      ]
     },
     "execution_count": 97,
     "metadata": {},
     "output_type": "execute_result"
    }
   ],
   "source": [
    "#Checking XML statement\n",
    "driver.find_element_by_xpath(\"/html/body/div[2]/div[2]/div[1]/div[4]/table/tbody/tr[2]/td[1]\").text"
   ]
  },
  {
   "cell_type": "markdown",
   "metadata": {},
   "source": [
    "### Creating a 3 part address for each element"
   ]
  },
  {
   "cell_type": "code",
   "execution_count": 98,
   "metadata": {},
   "outputs": [],
   "source": [
    "first_part=\"//html/body/div[2]/div[2]/div[1]/div[4]/table/tbody/tr[\""
   ]
  },
  {
   "cell_type": "code",
   "execution_count": 99,
   "metadata": {},
   "outputs": [],
   "source": [
    "second_part=\"]/td[\""
   ]
  },
  {
   "cell_type": "code",
   "execution_count": 100,
   "metadata": {},
   "outputs": [],
   "source": [
    "third_part=\"]\""
   ]
  },
  {
   "cell_type": "markdown",
   "metadata": {},
   "source": [
    "## Create a looping function which reads the data from the webpage and writes into a Pandas Data frame\n",
    "\n",
    "### Data for Riders GP Winners 2019"
   ]
  },
  {
   "cell_type": "code",
   "execution_count": 101,
   "metadata": {},
   "outputs": [
    {
     "data": {
      "text/html": [
       "<div>\n",
       "<style scoped>\n",
       "    .dataframe tbody tr th:only-of-type {\n",
       "        vertical-align: middle;\n",
       "    }\n",
       "\n",
       "    .dataframe tbody tr th {\n",
       "        vertical-align: top;\n",
       "    }\n",
       "\n",
       "    .dataframe thead th {\n",
       "        text-align: right;\n",
       "    }\n",
       "</style>\n",
       "<table border=\"1\" class=\"dataframe\">\n",
       "  <thead>\n",
       "    <tr style=\"text-align: right;\">\n",
       "      <th></th>\n",
       "      <th>Seasons</th>\n",
       "      <th>Category</th>\n",
       "      <th>Circuit</th>\n",
       "      <th>Rider</th>\n",
       "      <th>Country</th>\n",
       "      <th>Constructor</th>\n",
       "    </tr>\n",
       "  </thead>\n",
       "  <tbody>\n",
       "    <tr>\n",
       "      <th>0</th>\n",
       "      <td>2019</td>\n",
       "      <td>MotoE</td>\n",
       "      <td>Circuit Ricardo Tormo</td>\n",
       "      <td>Eric Granado</td>\n",
       "      <td>BRAZIL</td>\n",
       "      <td>Energica</td>\n",
       "    </tr>\n",
       "    <tr>\n",
       "      <th>1</th>\n",
       "      <td>2019</td>\n",
       "      <td>MotoGP</td>\n",
       "      <td>Circuit Ricardo Tormo</td>\n",
       "      <td>Marc Marquez</td>\n",
       "      <td>SPAIN</td>\n",
       "      <td>Honda</td>\n",
       "    </tr>\n",
       "    <tr>\n",
       "      <th>2</th>\n",
       "      <td>2019</td>\n",
       "      <td>Moto2</td>\n",
       "      <td>Circuit Ricardo Tormo</td>\n",
       "      <td>Brad Binder</td>\n",
       "      <td>SOUTH AFRICA</td>\n",
       "      <td>KTM</td>\n",
       "    </tr>\n",
       "    <tr>\n",
       "      <th>3</th>\n",
       "      <td>2019</td>\n",
       "      <td>Moto3</td>\n",
       "      <td>Circuit Ricardo Tormo</td>\n",
       "      <td>Sergio Garcia</td>\n",
       "      <td>SPAIN</td>\n",
       "      <td>Honda</td>\n",
       "    </tr>\n",
       "    <tr>\n",
       "      <th>4</th>\n",
       "      <td>2019</td>\n",
       "      <td>MotoE</td>\n",
       "      <td>Circuit Ricardo Tormo</td>\n",
       "      <td>Eric Granado</td>\n",
       "      <td>BRAZIL</td>\n",
       "      <td>Energica</td>\n",
       "    </tr>\n",
       "  </tbody>\n",
       "</table>\n",
       "</div>"
      ],
      "text/plain": [
       "  Seasons Category                Circuit          Rider       Country  \\\n",
       "0    2019    MotoE  Circuit Ricardo Tormo   Eric Granado        BRAZIL   \n",
       "1    2019   MotoGP  Circuit Ricardo Tormo   Marc Marquez         SPAIN   \n",
       "2    2019    Moto2  Circuit Ricardo Tormo    Brad Binder  SOUTH AFRICA   \n",
       "3    2019    Moto3  Circuit Ricardo Tormo  Sergio Garcia         SPAIN   \n",
       "4    2019    MotoE  Circuit Ricardo Tormo   Eric Granado        BRAZIL   \n",
       "\n",
       "  Constructor  \n",
       "0    Energica  \n",
       "1       Honda  \n",
       "2         KTM  \n",
       "3       Honda  \n",
       "4    Energica  "
      ]
     },
     "execution_count": 101,
     "metadata": {},
     "output_type": "execute_result"
    }
   ],
   "source": [
    "df = pd.DataFrame(columns=['Seasons','Category','Circuit','Rider','Country','Constructor'])\n",
    "loc1=0\n",
    "for n in range(2,row_count+1):\n",
    "#for n in range(2,64):\n",
    "    data=[]\n",
    "    season=driver.find_element_by_xpath(first_part+str(n)+second_part+str(1)+third_part).text\n",
    "    Category=driver.find_element_by_xpath(first_part+str(n)+second_part+str(2)+third_part).text\n",
    "    Circuit=driver.find_element_by_xpath(first_part+str(n)+second_part+str(3)+third_part).text\n",
    "    Rider=driver.find_element_by_xpath(first_part+str(n)+second_part+str(4)+third_part).text\n",
    "    Country=driver.find_element_by_xpath(first_part+str(n)+second_part+str(5)+third_part).text\n",
    "    Constructor=driver.find_element_by_xpath(first_part+str(n)+second_part+str(6)+third_part).text\n",
    "    df.loc[len(df)] = [season,Category,Circuit,Rider,Country,Constructor]\n",
    "    time.sleep(1)\n",
    "    \n",
    "df.head(5)"
   ]
  },
  {
   "cell_type": "markdown",
   "metadata": {},
   "source": [
    "### The above dataframe can be used for Data Science purposes"
   ]
  },
  {
   "cell_type": "markdown",
   "metadata": {},
   "source": [
    "### Data for Riders Best Results"
   ]
  },
  {
   "cell_type": "code",
   "execution_count": 61,
   "metadata": {},
   "outputs": [],
   "source": [
    "driver = webdriver.Chrome(executable_path='D:/KTM project/Motogp/chromedriver_win32/chromedriver.exe')\n",
    "driver.get('https://www.motogp.com/en/Results+Statistics/Statistics/statsearch.html')\n",
    "time.sleep(1)\n",
    "\n",
    "login=driver.find_element_by_id(\"riders_best_result\")\n",
    "login.click()"
   ]
  },
  {
   "cell_type": "code",
   "execution_count": 62,
   "metadata": {},
   "outputs": [
    {
     "name": "stdout",
     "output_type": "stream",
     "text": [
      "race fastest laps\n",
      "Grand Prix Podiums\n",
      "Poles\n"
     ]
    }
   ],
   "source": [
    "selectType = Select(driver.find_element_by_id(\"type\"))\n",
    "for option in selectType.options:\n",
    "    print(option.text)"
   ]
  },
  {
   "cell_type": "code",
   "execution_count": 67,
   "metadata": {},
   "outputs": [
    {
     "name": "stdout",
     "output_type": "stream",
     "text": [
      "All Classes\n",
      "Moto3\n",
      "Moto2\n",
      "MotoGP / 500cc\n",
      "250cc\n",
      "80cc\n",
      "50cc\n",
      "350cc\n",
      "125cc\n",
      "Fim Enel MotoE World Championship\n"
     ]
    }
   ],
   "source": [
    "selectClass = Select(driver.find_element_by_id(\"cid\"))\n",
    "for option in selectClass.options:\n",
    "    print(option.text)"
   ]
  },
  {
   "cell_type": "markdown",
   "metadata": {},
   "source": [
    "### Capture Pole positions data for MotoGP riders for year 2019"
   ]
  },
  {
   "cell_type": "code",
   "execution_count": 64,
   "metadata": {},
   "outputs": [],
   "source": [
    "selectType.select_by_visible_text('Poles')"
   ]
  },
  {
   "cell_type": "code",
   "execution_count": 68,
   "metadata": {},
   "outputs": [],
   "source": [
    "selectClass.select_by_visible_text('MotoGP / 500cc')"
   ]
  },
  {
   "cell_type": "code",
   "execution_count": 69,
   "metadata": {},
   "outputs": [],
   "source": [
    "selectYear = Select(driver.find_element_by_id(\"years\"))\n",
    "selectYear.select_by_value('2019')"
   ]
  },
  {
   "cell_type": "code",
   "execution_count": 70,
   "metadata": {},
   "outputs": [],
   "source": [
    "login=driver.find_element_by_id(\"riders_general_stat_submit\")\n",
    "login.click()"
   ]
  },
  {
   "cell_type": "code",
   "execution_count": 81,
   "metadata": {},
   "outputs": [
    {
     "data": {
      "text/plain": [
       "4"
      ]
     },
     "execution_count": 81,
     "metadata": {},
     "output_type": "execute_result"
    }
   ],
   "source": [
    "row_count=len(driver.find_elements_by_xpath('//*[@id=\"results_returned_container\"]/table/tbody/tr'))\n",
    "row_count"
   ]
  },
  {
   "cell_type": "code",
   "execution_count": 72,
   "metadata": {},
   "outputs": [
    {
     "data": {
      "text/plain": [
       "3"
      ]
     },
     "execution_count": 72,
     "metadata": {},
     "output_type": "execute_result"
    }
   ],
   "source": [
    "col_count=len(driver.find_elements_by_xpath('//*[@id=\"results_returned_container\"]/table/tbody/tr[1]/th'))\n",
    "col_count"
   ]
  },
  {
   "cell_type": "code",
   "execution_count": 89,
   "metadata": {},
   "outputs": [
    {
     "data": {
      "text/html": [
       "<div>\n",
       "<style scoped>\n",
       "    .dataframe tbody tr th:only-of-type {\n",
       "        vertical-align: middle;\n",
       "    }\n",
       "\n",
       "    .dataframe tbody tr th {\n",
       "        vertical-align: top;\n",
       "    }\n",
       "\n",
       "    .dataframe thead th {\n",
       "        text-align: right;\n",
       "    }\n",
       "</style>\n",
       "<table border=\"1\" class=\"dataframe\">\n",
       "  <thead>\n",
       "    <tr style=\"text-align: right;\">\n",
       "      <th></th>\n",
       "      <th>Times</th>\n",
       "      <th>Rider</th>\n",
       "      <th>Nation</th>\n",
       "    </tr>\n",
       "  </thead>\n",
       "  <tbody>\n",
       "    <tr>\n",
       "      <th>0</th>\n",
       "      <td>10</td>\n",
       "      <td>Marc Marquez</td>\n",
       "      <td>SPAIN</td>\n",
       "    </tr>\n",
       "    <tr>\n",
       "      <th>1</th>\n",
       "      <td>6</td>\n",
       "      <td>Fabio Quartararo</td>\n",
       "      <td>FRANCE</td>\n",
       "    </tr>\n",
       "    <tr>\n",
       "      <th>2</th>\n",
       "      <td>3</td>\n",
       "      <td>Maverick Viñales</td>\n",
       "      <td>SPAIN</td>\n",
       "    </tr>\n",
       "  </tbody>\n",
       "</table>\n",
       "</div>"
      ],
      "text/plain": [
       "  Times             Rider  Nation\n",
       "0    10      Marc Marquez   SPAIN\n",
       "1     6  Fabio Quartararo  FRANCE\n",
       "2     3  Maverick Viñales   SPAIN"
      ]
     },
     "execution_count": 89,
     "metadata": {},
     "output_type": "execute_result"
    }
   ],
   "source": [
    "df2 = pd.DataFrame(columns=['Times','Rider','Nation'])\n",
    "for n in range(2,row_count+1):\n",
    "#for n in range(2,64):\n",
    "    Times=driver.find_element_by_xpath(first_part+str(n)+second_part+str(1)+third_part).text\n",
    "    Rider=driver.find_element_by_xpath(first_part+str(n)+second_part+str(2)+third_part).text\n",
    "    Nation=driver.find_element_by_xpath(first_part+str(n)+second_part+str(3)+third_part).text\n",
    "    df2.loc[len(df2)] = [Times,Rider,Nation]\n",
    "    time.sleep(1)\n",
    "    \n",
    "df2.head(5)"
   ]
  },
  {
   "cell_type": "markdown",
   "metadata": {},
   "source": [
    "## The above code can be resued for similar exercises of Webscraping"
   ]
  },
  {
   "cell_type": "code",
   "execution_count": null,
   "metadata": {},
   "outputs": [],
   "source": []
  }
 ],
 "metadata": {
  "kernelspec": {
   "display_name": "Python 3",
   "language": "python",
   "name": "python3"
  },
  "language_info": {
   "codemirror_mode": {
    "name": "ipython",
    "version": 3
   },
   "file_extension": ".py",
   "mimetype": "text/x-python",
   "name": "python",
   "nbconvert_exporter": "python",
   "pygments_lexer": "ipython3",
   "version": "3.7.3"
  }
 },
 "nbformat": 4,
 "nbformat_minor": 2
}
